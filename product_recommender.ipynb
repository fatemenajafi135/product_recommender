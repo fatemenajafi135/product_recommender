{
  "nbformat": 4,
  "nbformat_minor": 0,
  "metadata": {
    "colab": {
      "name": "product_recommender.ipynb",
      "provenance": [],
      "collapsed_sections": []
    },
    "kernelspec": {
      "name": "python3",
      "display_name": "Python 3"
    }
  },
  "cells": [
    {
      "cell_type": "markdown",
      "metadata": {
        "id": "G9UugnXGt4Dk"
      },
      "source": [
        "# Setting"
      ]
    },
    {
      "cell_type": "code",
      "metadata": {
        "colab": {
          "base_uri": "https://localhost:8080/"
        },
        "id": "PXEWtOgvul7H",
        "outputId": "0d29c3e6-394a-43ea-98db-1580b12e90d4"
      },
      "source": [
        "# requirements\r\n",
        "!pip install emoji\r\n",
        "!pip install beautifulsoup4\r\n",
        "!pip install requests"
      ],
      "execution_count": 1,
      "outputs": [
        {
          "output_type": "stream",
          "text": [
            "Collecting emoji\n",
            "\u001b[?25l  Downloading https://files.pythonhosted.org/packages/24/fa/b3368f41b95a286f8d300e323449ab4e86b85334c2e0b477e94422b8ed0f/emoji-1.2.0-py3-none-any.whl (131kB)\n",
            "\r\u001b[K     |██▌                             | 10kB 11.6MB/s eta 0:00:01\r\u001b[K     |█████                           | 20kB 13.0MB/s eta 0:00:01\r\u001b[K     |███████▌                        | 30kB 7.5MB/s eta 0:00:01\r\u001b[K     |██████████                      | 40kB 6.6MB/s eta 0:00:01\r\u001b[K     |████████████▌                   | 51kB 4.6MB/s eta 0:00:01\r\u001b[K     |███████████████                 | 61kB 4.5MB/s eta 0:00:01\r\u001b[K     |█████████████████▌              | 71kB 4.9MB/s eta 0:00:01\r\u001b[K     |████████████████████            | 81kB 4.8MB/s eta 0:00:01\r\u001b[K     |██████████████████████▌         | 92kB 5.2MB/s eta 0:00:01\r\u001b[K     |█████████████████████████       | 102kB 5.5MB/s eta 0:00:01\r\u001b[K     |███████████████████████████▌    | 112kB 5.5MB/s eta 0:00:01\r\u001b[K     |██████████████████████████████  | 122kB 5.5MB/s eta 0:00:01\r\u001b[K     |████████████████████████████████| 133kB 5.5MB/s \n",
            "\u001b[?25hInstalling collected packages: emoji\n",
            "Successfully installed emoji-1.2.0\n",
            "Requirement already satisfied: beautifulsoup4 in /usr/local/lib/python3.7/dist-packages (4.6.3)\n",
            "Requirement already satisfied: requests in /usr/local/lib/python3.7/dist-packages (2.23.0)\n",
            "Requirement already satisfied: urllib3!=1.25.0,!=1.25.1,<1.26,>=1.21.1 in /usr/local/lib/python3.7/dist-packages (from requests) (1.24.3)\n",
            "Requirement already satisfied: chardet<4,>=3.0.2 in /usr/local/lib/python3.7/dist-packages (from requests) (3.0.4)\n",
            "Requirement already satisfied: certifi>=2017.4.17 in /usr/local/lib/python3.7/dist-packages (from requests) (2020.12.5)\n",
            "Requirement already satisfied: idna<3,>=2.5 in /usr/local/lib/python3.7/dist-packages (from requests) (2.10)\n"
          ],
          "name": "stdout"
        }
      ]
    },
    {
      "cell_type": "code",
      "metadata": {
        "id": "SI0-5621ulD5"
      },
      "source": [
        "import pandas as pd\r\n",
        "import numpy as np\r\n",
        "import pickle\r\n",
        "import time\r\n",
        "import pickle\r\n",
        "import requests\r\n",
        "from bs4 import BeautifulSoup as bs \r\n",
        "import emoji\r\n",
        "from sklearn.metrics import ndcg_score"
      ],
      "execution_count": 2,
      "outputs": []
    },
    {
      "cell_type": "code",
      "metadata": {
        "colab": {
          "base_uri": "https://localhost:8080/"
        },
        "id": "OskTkKlotx8k",
        "outputId": "24c542db-59b8-45df-e1be-e2ad14761a4d"
      },
      "source": [
        "from google.colab import drive\r\n",
        "drive.mount('/content/drive')"
      ],
      "execution_count": 3,
      "outputs": [
        {
          "output_type": "stream",
          "text": [
            "Mounted at /content/drive\n"
          ],
          "name": "stdout"
        }
      ]
    },
    {
      "cell_type": "code",
      "metadata": {
        "colab": {
          "base_uri": "https://localhost:8080/"
        },
        "id": "e_zQReqCfmTS",
        "outputId": "b2c1274a-c4c3-4c31-8060-052c5168caf0"
      },
      "source": [
        "# my path: drive/MyDrive/Project/Yektanet/product_recommender\r\n",
        "FOLDERNAME = \"Project/Yektanet/product_recommender\"\r\n",
        "\r\n",
        "%cd drive/My\\ Drive\r\n",
        "%cp -r $FOLDERNAME ../../\r\n",
        "%cd ../../\r\n",
        "%cd product_recommender/"
      ],
      "execution_count": 4,
      "outputs": [
        {
          "output_type": "stream",
          "text": [
            "/content/drive/My Drive\n",
            "/content\n",
            "/content/product_recommender\n"
          ],
          "name": "stdout"
        }
      ]
    },
    {
      "cell_type": "code",
      "metadata": {
        "id": "1LZ4wmtT96N8",
        "colab": {
          "base_uri": "https://localhost:8080/"
        },
        "outputId": "016b0e4c-085f-4779-c22c-dd0c8e45f896"
      },
      "source": [
        "%cd code\r\n",
        "\r\n",
        "from utils import *\r\n",
        "from crawler_functions import *\r\n",
        "from clean_data import *\r\n",
        "from TermFrequency import TermFrequency\r\n",
        "from recommend import *\r\n",
        "\r\n",
        "%cd .."
      ],
      "execution_count": 5,
      "outputs": [
        {
          "output_type": "stream",
          "text": [
            "/content/product_recommender/code\n",
            "/content/product_recommender\n"
          ],
          "name": "stdout"
        }
      ]
    },
    {
      "cell_type": "markdown",
      "metadata": {
        "id": "H-KBpANdwY3N"
      },
      "source": [
        "# Digikala Crawler and creating files"
      ]
    },
    {
      "cell_type": "code",
      "metadata": {
        "colab": {
          "base_uri": "https://localhost:8080/"
        },
        "id": "adEPVQglwYj0",
        "outputId": "fb149d83-7a21-45cf-bb3c-0b667735d2ed"
      },
      "source": [
        "run_crawler(4322796, 6, 2, 1000)"
      ],
      "execution_count": 6,
      "outputs": [
        {
          "output_type": "stream",
          "text": [
            "/content/product_recommender/code/crawler_functions.py:32: UserWarning: No parser was explicitly specified, so I'm using the best available HTML parser for this system (\"lxml\"). This usually isn't a problem, but if you run this code on another system, or in a different virtual environment, it may use a different parser and behave differently.\n",
            "\n",
            "The code that caused this warning is on line 32 of the file /content/product_recommender/code/crawler_functions.py. To get rid of this warning, pass the additional argument 'features=\"lxml\"' to the BeautifulSoup constructor.\n",
            "\n",
            "  soup = bs(res.content)\n"
          ],
          "name": "stderr"
        },
        {
          "output_type": "stream",
          "text": [
            "0 in 43.28174185752869 seconds done!\n",
            "1 in 136.7251844406128 seconds done!\n",
            "2 in 105.71302771568298 seconds done!\n"
          ],
          "name": "stdout"
        }
      ]
    },
    {
      "cell_type": "code",
      "metadata": {
        "colab": {
          "base_uri": "https://localhost:8080/",
          "height": 197
        },
        "id": "ZmPBpipdw8GU",
        "outputId": "a4853634-7dc6-44e8-8594-af393cad387f"
      },
      "source": [
        "all_products = []\r\n",
        "\r\n",
        "for file_name in range(3):\r\n",
        "    path = 'data/pickle_files/digikala_p_'+str(1000+file_name)+'.pkl'\r\n",
        "    products = read_pickle(path)\r\n",
        "    all_products = all_products + products\r\n",
        "\r\n",
        "columns_names=['dkp', 'product_name', 'description', 'classes', 'stocked']\r\n",
        "all_products = pd.DataFrame(all_products, columns = columns_names)\r\n",
        "all_products"
      ],
      "execution_count": 7,
      "outputs": [
        {
          "output_type": "execute_result",
          "data": {
            "text/html": [
              "<div>\n",
              "<style scoped>\n",
              "    .dataframe tbody tr th:only-of-type {\n",
              "        vertical-align: middle;\n",
              "    }\n",
              "\n",
              "    .dataframe tbody tr th {\n",
              "        vertical-align: top;\n",
              "    }\n",
              "\n",
              "    .dataframe thead th {\n",
              "        text-align: right;\n",
              "    }\n",
              "</style>\n",
              "<table border=\"1\" class=\"dataframe\">\n",
              "  <thead>\n",
              "    <tr style=\"text-align: right;\">\n",
              "      <th></th>\n",
              "      <th>dkp</th>\n",
              "      <th>product_name</th>\n",
              "      <th>description</th>\n",
              "      <th>classes</th>\n",
              "      <th>stocked</th>\n",
              "    </tr>\n",
              "  </thead>\n",
              "  <tbody>\n",
              "    <tr>\n",
              "      <th>0</th>\n",
              "      <td>4322796</td>\n",
              "      <td>کفش کوهنوردی زنانه سالومون مدل RS408144</td>\n",
              "      <td></td>\n",
              "      <td>[مد و پوشاک, زنانه, کفش زنانه, کفش ورزشی زنانه]</td>\n",
              "      <td>True</td>\n",
              "    </tr>\n",
              "    <tr>\n",
              "      <th>1</th>\n",
              "      <td>4322797</td>\n",
              "      <td>کاور طرح Harley Quinn مدل CHL50353 مناسب برای ...</td>\n",
              "      <td></td>\n",
              "      <td>[کالای دیجیتال, لوازم جانبی کالای دیجیتال, لوا...</td>\n",
              "      <td>True</td>\n",
              "    </tr>\n",
              "    <tr>\n",
              "      <th>2</th>\n",
              "      <td>4322798</td>\n",
              "      <td>مگنت و کاغذ یادداشت مدل S15</td>\n",
              "      <td>وایت برد یاددا...</td>\n",
              "      <td>[خانه و آشپزخانه, دکوراتیو, لوازم تزیینی, سایر...</td>\n",
              "      <td>True</td>\n",
              "    </tr>\n",
              "    <tr>\n",
              "      <th>3</th>\n",
              "      <td>4322799</td>\n",
              "      <td>قارچ کش دیفوربین کاوش مدل اورتیواتاب حجم 250 م...</td>\n",
              "      <td>دیفوربین قارچ ...</td>\n",
              "      <td>[خودرو، ابزار و تجهیزات صنعتی, باغبانی, سموم گ...</td>\n",
              "      <td>True</td>\n",
              "    </tr>\n",
              "    <tr>\n",
              "      <th>4</th>\n",
              "      <td>4322801</td>\n",
              "      <td>تابلو فرش دستبافت طرح گل کد ۴۳۲۲۸۰۱</td>\n",
              "      <td></td>\n",
              "      <td>[کتاب، لوازم تحریر و هنر, فرش, تابلو فرش]</td>\n",
              "      <td>False</td>\n",
              "    </tr>\n",
              "  </tbody>\n",
              "</table>\n",
              "</div>"
            ],
            "text/plain": [
              "       dkp  ... stocked\n",
              "0  4322796  ...    True\n",
              "1  4322797  ...    True\n",
              "2  4322798  ...    True\n",
              "3  4322799  ...    True\n",
              "4  4322801  ...   False\n",
              "\n",
              "[5 rows x 5 columns]"
            ]
          },
          "metadata": {
            "tags": []
          },
          "execution_count": 7
        }
      ]
    },
    {
      "cell_type": "code",
      "metadata": {
        "id": "hft97_IyxjtE"
      },
      "source": [
        "all_products.to_csv('data/digikala_products_test_.csv', index=False)"
      ],
      "execution_count": 8,
      "outputs": []
    },
    {
      "cell_type": "markdown",
      "metadata": {
        "id": "ImdY6Q1MiagV"
      },
      "source": [
        "# Read file"
      ]
    },
    {
      "cell_type": "code",
      "metadata": {
        "id": "2OpMCqGEyMR0"
      },
      "source": [
        "## csv\r\n",
        "# data = pd.read_csv('data/digikala_products.csv') \r\n",
        "# data = pd.read_csv('data/digikala_products_test.csv') # the one we create in last section \r\n",
        "# data.head()"
      ],
      "execution_count": 9,
      "outputs": []
    },
    {
      "cell_type": "code",
      "metadata": {
        "colab": {
          "base_uri": "https://localhost:8080/",
          "height": 406
        },
        "id": "tpvS28B8o71-",
        "outputId": "0e21c5ae-b0c5-45bc-a758-38d20b6afdac"
      },
      "source": [
        "## pickle\r\n",
        "data = read_pickle('data/digikala_products.pkl')\r\n",
        "data"
      ],
      "execution_count": 10,
      "outputs": [
        {
          "output_type": "execute_result",
          "data": {
            "text/html": [
              "<div>\n",
              "<style scoped>\n",
              "    .dataframe tbody tr th:only-of-type {\n",
              "        vertical-align: middle;\n",
              "    }\n",
              "\n",
              "    .dataframe tbody tr th {\n",
              "        vertical-align: top;\n",
              "    }\n",
              "\n",
              "    .dataframe thead th {\n",
              "        text-align: right;\n",
              "    }\n",
              "</style>\n",
              "<table border=\"1\" class=\"dataframe\">\n",
              "  <thead>\n",
              "    <tr style=\"text-align: right;\">\n",
              "      <th></th>\n",
              "      <th>dkp</th>\n",
              "      <th>product_name</th>\n",
              "      <th>description</th>\n",
              "      <th>classes</th>\n",
              "      <th>stocked</th>\n",
              "    </tr>\n",
              "  </thead>\n",
              "  <tbody>\n",
              "    <tr>\n",
              "      <th>0</th>\n",
              "      <td>3270000</td>\n",
              "      <td>برچسب بدنه خودرو طرح حسین علیه السلام کد MH104</td>\n",
              "      <td>راهنمایی نصب: ...</td>\n",
              "      <td>[خودرو، ابزار و تجهیزات صنعتی, لوازم جانبی خود...</td>\n",
              "      <td>True</td>\n",
              "    </tr>\n",
              "    <tr>\n",
              "      <th>1</th>\n",
              "      <td>3270001</td>\n",
              "      <td>آباژور  مدل الگا</td>\n",
              "      <td>آباژور آینه‎ای...</td>\n",
              "      <td>[خانه و آشپزخانه, دکوراتیو, چراغ خواب و آباژور]</td>\n",
              "      <td>False</td>\n",
              "    </tr>\n",
              "    <tr>\n",
              "      <th>2</th>\n",
              "      <td>3270002</td>\n",
              "      <td>جعبه لوازم خیاطی ژانومه کد 096</td>\n",
              "      <td></td>\n",
              "      <td>[خانه و آشپزخانه, خواب و حمام, ملزومات خیاطی]</td>\n",
              "      <td>True</td>\n",
              "    </tr>\n",
              "    <tr>\n",
              "      <th>3</th>\n",
              "      <td>3270003</td>\n",
              "      <td>کفش زنانه لیانا کد 293-GH</td>\n",
              "      <td></td>\n",
              "      <td>[مد و پوشاک, زنانه, کفش زنانه, کفش پاشنه دار ز...</td>\n",
              "      <td>True</td>\n",
              "    </tr>\n",
              "    <tr>\n",
              "      <th>4</th>\n",
              "      <td>3270004</td>\n",
              "      <td>کیت آموزشی منظومه شمسی مدل GH3497-5</td>\n",
              "      <td></td>\n",
              "      <td>[اسباب بازی، کودک و نوزاد, سرگرمی و آموزشی, اس...</td>\n",
              "      <td>False</td>\n",
              "    </tr>\n",
              "    <tr>\n",
              "      <th>...</th>\n",
              "      <td>...</td>\n",
              "      <td>...</td>\n",
              "      <td>...</td>\n",
              "      <td>...</td>\n",
              "      <td>...</td>\n",
              "    </tr>\n",
              "    <tr>\n",
              "      <th>1877</th>\n",
              "      <td>260110</td>\n",
              "      <td>کمربند مردانه شهر چرم مدل 1-245203</td>\n",
              "      <td></td>\n",
              "      <td>[مد و پوشاک, مردانه, اکسسوری مردانه, کمربند و ...</td>\n",
              "      <td>False</td>\n",
              "    </tr>\n",
              "    <tr>\n",
              "      <th>1878</th>\n",
              "      <td>260111</td>\n",
              "      <td>عروسک مدل Elephant Color Shawl ارتفاع 38 سانتی...</td>\n",
              "      <td></td>\n",
              "      <td>[اسباب بازی، کودک و نوزاد, سرگرمی و آموزشی, اس...</td>\n",
              "      <td>False</td>\n",
              "    </tr>\n",
              "    <tr>\n",
              "      <th>1879</th>\n",
              "      <td>260112</td>\n",
              "      <td>عروسک مدل Elephant Color Shawl ارتفاع 47 سانتی...</td>\n",
              "      <td></td>\n",
              "      <td>[اسباب بازی، کودک و نوزاد, سرگرمی و آموزشی, اس...</td>\n",
              "      <td>False</td>\n",
              "    </tr>\n",
              "    <tr>\n",
              "      <th>1880</th>\n",
              "      <td>260113</td>\n",
              "      <td>دستگاه اتوماتیک خوشبو کننده هوا نووا مدل NW024...</td>\n",
              "      <td></td>\n",
              "      <td>[خانه و آشپزخانه, شستشو و نظافت, مواد شوینده, ...</td>\n",
              "      <td>False</td>\n",
              "    </tr>\n",
              "    <tr>\n",
              "      <th>1881</th>\n",
              "      <td>260114</td>\n",
              "      <td>آچار بکس جغجغه ای واستر درایو 3/8 اینچ</td>\n",
              "      <td>آچار بکس را با...</td>\n",
              "      <td>[خودرو، ابزار و تجهیزات صنعتی, ابزار غیر برقی,...</td>\n",
              "      <td>False</td>\n",
              "    </tr>\n",
              "  </tbody>\n",
              "</table>\n",
              "<p>1882 rows × 5 columns</p>\n",
              "</div>"
            ],
            "text/plain": [
              "          dkp  ... stocked\n",
              "0     3270000  ...    True\n",
              "1     3270001  ...   False\n",
              "2     3270002  ...    True\n",
              "3     3270003  ...    True\n",
              "4     3270004  ...   False\n",
              "...       ...  ...     ...\n",
              "1877   260110  ...   False\n",
              "1878   260111  ...   False\n",
              "1879   260112  ...   False\n",
              "1880   260113  ...   False\n",
              "1881   260114  ...   False\n",
              "\n",
              "[1882 rows x 5 columns]"
            ]
          },
          "metadata": {
            "tags": []
          },
          "execution_count": 10
        }
      ]
    },
    {
      "cell_type": "markdown",
      "metadata": {
        "id": "0l8q3lapyLDZ"
      },
      "source": [
        "# EDA"
      ]
    },
    {
      "cell_type": "code",
      "metadata": {
        "colab": {
          "base_uri": "https://localhost:8080/"
        },
        "id": "A2SmrUYaiZWu",
        "outputId": "1156b938-a955-44f4-f76c-dc03461846db"
      },
      "source": [
        "data.info()"
      ],
      "execution_count": 11,
      "outputs": [
        {
          "output_type": "stream",
          "text": [
            "<class 'pandas.core.frame.DataFrame'>\n",
            "RangeIndex: 1882 entries, 0 to 1881\n",
            "Data columns (total 5 columns):\n",
            " #   Column        Non-Null Count  Dtype \n",
            "---  ------        --------------  ----- \n",
            " 0   dkp           1882 non-null   int64 \n",
            " 1   product_name  1882 non-null   object\n",
            " 2   description   1882 non-null   object\n",
            " 3   classes       1882 non-null   object\n",
            " 4   stocked       1882 non-null   bool  \n",
            "dtypes: bool(1), int64(1), object(3)\n",
            "memory usage: 60.8+ KB\n"
          ],
          "name": "stdout"
        }
      ]
    },
    {
      "cell_type": "markdown",
      "metadata": {
        "id": "zQRwZ3Rma8be"
      },
      "source": [
        "Main product classes:"
      ]
    },
    {
      "cell_type": "code",
      "metadata": {
        "id": "7XNHBfMXiZIr",
        "colab": {
          "base_uri": "https://localhost:8080/"
        },
        "outputId": "a17e5c5e-5d9f-40d7-a54f-6ba901b331de"
      },
      "source": [
        "classes_set_ = {p_classes[0] for p_classes in data['classes'] }\r\n",
        "print('size of main classes:' ,len(classes_set_))\r\n",
        "classes_set_"
      ],
      "execution_count": 12,
      "outputs": [
        {
          "output_type": "stream",
          "text": [
            "size of main classes: 9\n"
          ],
          "name": "stdout"
        },
        {
          "output_type": "execute_result",
          "data": {
            "text/plain": [
              "{'اسباب بازی، کودک و نوزاد',\n",
              " 'خانه و آشپزخانه',\n",
              " 'خودرو، ابزار و تجهیزات صنعتی',\n",
              " 'خوردنی و آشامیدنی',\n",
              " 'زیبایی و سلامت',\n",
              " 'مد و پوشاک',\n",
              " 'ورزش و سفر',\n",
              " 'کالای دیجیتال',\n",
              " 'کتاب، لوازم تحریر و هنر'}"
            ]
          },
          "metadata": {
            "tags": []
          },
          "execution_count": 12
        }
      ]
    },
    {
      "cell_type": "markdown",
      "metadata": {
        "id": "P3ZO3CdQbBVu"
      },
      "source": [
        "Product subclasses:"
      ]
    },
    {
      "cell_type": "code",
      "metadata": {
        "colab": {
          "base_uri": "https://localhost:8080/"
        },
        "id": "tprYnTlpbE9i",
        "outputId": "97b911f4-41c0-4a4b-e4b7-20f4304e60e8"
      },
      "source": [
        "classes_set_ = {p_classes[1] for p_classes in data['classes'] }\r\n",
        "print('size of subclasses:', len(classes_set_))\r\n",
        "classes_set_"
      ],
      "execution_count": 13,
      "outputs": [
        {
          "output_type": "stream",
          "text": [
            "size of subclasses: 53\n"
          ],
          "name": "stdout"
        },
        {
          "output_type": "execute_result",
          "data": {
            "text/plain": [
              "{'آشپزخانه',\n",
              " 'آلات موسیقی',\n",
              " 'ابزار برقی',\n",
              " 'ابزار سلامت',\n",
              " 'ابزار غیر برقی',\n",
              " 'انبارداری و صنعتی',\n",
              " 'اکسسوری لوازم شخصی',\n",
              " 'باغبانی',\n",
              " 'بچگانه',\n",
              " 'تبلت و کتابخوان',\n",
              " 'تجهیزات سفر',\n",
              " 'حیوانات خانگی',\n",
              " 'خشکبار و شیرینی',\n",
              " 'خواب و حمام',\n",
              " 'خواب کودک',\n",
              " 'دوربین',\n",
              " 'دوچرخه و لوازم جانبی',\n",
              " 'دکوراتیو',\n",
              " 'زنانه',\n",
              " 'زنانه و مردانه',\n",
              " 'ساعت و مچ بند هوشمند',\n",
              " 'سرو و پذیرایی',\n",
              " 'سرگرمی و آموزشی',\n",
              " 'شستشو و نظافت',\n",
              " 'صبحانه',\n",
              " 'صنایع دستی',\n",
              " 'صوتی و تصویری',\n",
              " 'عطر',\n",
              " 'غذاخوری',\n",
              " 'فرش',\n",
              " 'لبنیات',\n",
              " 'لوازم آرایشی',\n",
              " 'لوازم بهداشتی',\n",
              " 'لوازم تحریر',\n",
              " 'لوازم جانبی خودرو',\n",
              " 'لوازم جانبی کالای دیجیتال',\n",
              " 'لوازم خانگی برقی',\n",
              " 'لوازم شخصی برقی',\n",
              " 'لوازم مصرفی خودرو',\n",
              " 'لوازم ورزشی',\n",
              " 'لپ تاپ',\n",
              " 'ماشین های اداری',\n",
              " 'محتوای آموزشی',\n",
              " 'محصولات مذهبی',\n",
              " 'مردانه',\n",
              " 'موبایل',\n",
              " 'نرم افزار و بازی',\n",
              " 'نور و روشنایی',\n",
              " 'نوشیدنی',\n",
              " 'کالاهای اساسی و خوار و بار',\n",
              " 'کامپیوتر و تجهیزات جانبی',\n",
              " 'کتاب و مجلات',\n",
              " 'گردش و سفر'}"
            ]
          },
          "metadata": {
            "tags": []
          },
          "execution_count": 13
        }
      ]
    },
    {
      "cell_type": "markdown",
      "metadata": {
        "id": "u49B6K1zbmxS"
      },
      "source": [
        "Stocked or not:"
      ]
    },
    {
      "cell_type": "code",
      "metadata": {
        "colab": {
          "base_uri": "https://localhost:8080/"
        },
        "id": "ZidH6lIZbmfM",
        "outputId": "764e8834-2e81-4c94-861d-97a3529788df"
      },
      "source": [
        "print(data[data['stocked']].shape[0], 'products are in stock.')\r\n",
        "print(data[data['stocked']==False].shape[0], 'products are not!')"
      ],
      "execution_count": 14,
      "outputs": [
        {
          "output_type": "stream",
          "text": [
            "952 products are in stock.\n",
            "930 products are not!\n"
          ],
          "name": "stdout"
        }
      ]
    },
    {
      "cell_type": "markdown",
      "metadata": {
        "id": "olE-A2OcczJq"
      },
      "source": [
        "Having description:"
      ]
    },
    {
      "cell_type": "code",
      "metadata": {
        "colab": {
          "base_uri": "https://localhost:8080/"
        },
        "id": "5c8jnbtRcSjM",
        "outputId": "8a468c25-111f-4809-e8dc-3f5e17b888b4"
      },
      "source": [
        "print(data[data['description']!=''].shape[0], 'products have description.')\r\n",
        "print(data[data['description']==''].shape[0], 'products have not.')"
      ],
      "execution_count": 15,
      "outputs": [
        {
          "output_type": "stream",
          "text": [
            "826 products have description.\n",
            "1056 products have not.\n"
          ],
          "name": "stdout"
        }
      ]
    },
    {
      "cell_type": "markdown",
      "metadata": {
        "id": "dL-EfFTIyphl"
      },
      "source": [
        "# Cleaning and Preprocessing"
      ]
    },
    {
      "cell_type": "code",
      "metadata": {
        "id": "-1GPzyILI9UE"
      },
      "source": [
        "class_string = lambda class_list: ' '.join(str(cls) for cls in class_list)\r\n",
        "data['classes_string'] = pd.Series([class_string(cls_list) for cls_list in data['classes']])\r\n",
        "data['product'] = data['product_name'].str.cat(data['classes_string'], sep=' ')"
      ],
      "execution_count": 16,
      "outputs": []
    },
    {
      "cell_type": "code",
      "metadata": {
        "id": "lLbjWlc5ys3G"
      },
      "source": [
        "corpus = [clean_string(text, False) for text in data['product']]"
      ],
      "execution_count": 17,
      "outputs": []
    },
    {
      "cell_type": "code",
      "metadata": {
        "id": "cs_MSZWSDNl3"
      },
      "source": [
        "# write_to_pickle(corpus, 'data/corpus_cleaned.pkl')\r\n",
        "# corpus = read_pickle('data/corpus_cleaned.pkl')"
      ],
      "execution_count": 18,
      "outputs": []
    },
    {
      "cell_type": "code",
      "metadata": {
        "id": "T6pOu7yYc8_z"
      },
      "source": [
        "# An example for texts\r\n",
        "context = [\r\n",
        "               ' فاطمه ساک خرید آلما کفش کوهنوردی کاغذ خرید',\r\n",
        "               'دستبافت فرش مناسب',\r\n",
        "               'ساک لباس'\r\n",
        "]"
      ],
      "execution_count": 19,
      "outputs": []
    },
    {
      "cell_type": "code",
      "metadata": {
        "id": "XiwdFtL4-_y3"
      },
      "source": [
        "context_ = [clean_string(text, False) for text in context]"
      ],
      "execution_count": 20,
      "outputs": []
    },
    {
      "cell_type": "markdown",
      "metadata": {
        "id": "P1dpvGK6-tyJ"
      },
      "source": [
        "Term Frequency"
      ]
    },
    {
      "cell_type": "code",
      "metadata": {
        "id": "CvAipS0AHqr4"
      },
      "source": [
        "product_tf = TermFrequency(corpus)\r\n",
        "products, word2index = product_tf.corpus_TF, product_tf.word2index\r\n",
        "texts = TermFrequency(context_, data_type = 'text', word2index = word2index).corpus_TF"
      ],
      "execution_count": 21,
      "outputs": []
    },
    {
      "cell_type": "markdown",
      "metadata": {
        "id": "VGK3o2Mkytdi"
      },
      "source": [
        "# Algorithm"
      ]
    },
    {
      "cell_type": "markdown",
      "metadata": {
        "id": "av_YnqUHTDfj"
      },
      "source": [
        "## Jaccard"
      ]
    },
    {
      "cell_type": "code",
      "metadata": {
        "colab": {
          "base_uri": "https://localhost:8080/"
        },
        "id": "tBFEHqhtNzno",
        "outputId": "583a43a5-13e7-49cf-fe9a-6722440d85f8"
      },
      "source": [
        "similarity_matrix = calculate_similarity(products[:10], texts, jaccard_sim)\r\n",
        "similarity_matrix"
      ],
      "execution_count": 22,
      "outputs": [
        {
          "output_type": "execute_result",
          "data": {
            "text/plain": [
              "array([[0.24845573, 0.33196065, 0.33161748, 0.24905596, 0.19890185,\n",
              "        0.33184626, 0.36226321, 0.24854152, 0.19903912, 0.24888469],\n",
              "       [0.24871311, 0.33230382, 0.33196065, 0.24914207, 0.19910776,\n",
              "        0.33218943, 0.33207504, 0.2487989 , 0.19924502, 0.24914207],\n",
              "       [0.24871311, 0.33230382, 0.33196065, 0.24914207, 0.19910776,\n",
              "        0.33218943, 0.33207504, 0.27397013, 0.19924502, 0.28502771]])"
            ]
          },
          "metadata": {
            "tags": []
          },
          "execution_count": 22
        }
      ]
    },
    {
      "cell_type": "code",
      "metadata": {
        "colab": {
          "base_uri": "https://localhost:8080/"
        },
        "id": "z97Uq6e-QqfQ",
        "outputId": "2dfa3685-43b7-4590-ec5a-8eaf0c4b2c02"
      },
      "source": [
        "pred = predict (similarity_matrix, 3)\r\n",
        "pred"
      ],
      "execution_count": 23,
      "outputs": [
        {
          "output_type": "execute_result",
          "data": {
            "text/plain": [
              "[array([6, 1, 5]), array([1, 5, 6]), array([1, 5, 6])]"
            ]
          },
          "metadata": {
            "tags": []
          },
          "execution_count": 23
        }
      ]
    },
    {
      "cell_type": "markdown",
      "metadata": {
        "id": "oakJtvrZTHZ7"
      },
      "source": [
        "## Cosine"
      ]
    },
    {
      "cell_type": "code",
      "metadata": {
        "colab": {
          "base_uri": "https://localhost:8080/"
        },
        "id": "lpbBb8imTG37",
        "outputId": "5ff22d92-6b10-446b-92c5-f18b49abe84a"
      },
      "source": [
        "similarity_matrix = calculate_similarity(products[:10], texts, cosine_sim)\r\n",
        "similarity_matrix"
      ],
      "execution_count": 24,
      "outputs": [
        {
          "output_type": "execute_result",
          "data": {
            "text/plain": [
              "array([[0.        , 0.        , 0.        , 0.2409658 , 0.        ,\n",
              "        0.        , 0.11547005, 0.        , 0.        , 0.        ],\n",
              "       [0.        , 0.        , 0.        , 0.        , 0.        ,\n",
              "        0.        , 0.        , 0.        , 0.        , 0.        ],\n",
              "       [0.        , 0.        , 0.        , 0.        , 0.        ,\n",
              "        0.        , 0.        , 0.12309149, 0.        , 0.13867505]])"
            ]
          },
          "metadata": {
            "tags": []
          },
          "execution_count": 24
        }
      ]
    },
    {
      "cell_type": "code",
      "metadata": {
        "colab": {
          "base_uri": "https://localhost:8080/"
        },
        "id": "q0KilN_iTG39",
        "outputId": "b8cdd88b-0157-4b71-f61b-46d70a5b6725"
      },
      "source": [
        "pred = predict (similarity_matrix, 3)\r\n",
        "pred"
      ],
      "execution_count": 25,
      "outputs": [
        {
          "output_type": "execute_result",
          "data": {
            "text/plain": [
              "[array([3, 6, 9]), array([9, 8, 7]), array([9, 7, 8])]"
            ]
          },
          "metadata": {
            "tags": []
          },
          "execution_count": 25
        }
      ]
    },
    {
      "cell_type": "markdown",
      "metadata": {
        "id": "lYknato-yyEy"
      },
      "source": [
        "# Evaluation\r\n",
        "metric: nDCG"
      ]
    },
    {
      "cell_type": "code",
      "metadata": {
        "id": "PZRQenk5y0TM",
        "colab": {
          "base_uri": "https://localhost:8080/"
        },
        "outputId": "8e1b27a3-df0e-424a-fa12-e56af0b5b262"
      },
      "source": [
        "#ideal\r\n",
        "true_relevance = np.array([[1, 0, 0]])\r\n",
        "#predicted\r\n",
        "scores = np.array([[1, 1, 0]])\r\n",
        "ndcg_score(true_relevance, scores, k=2)"
      ],
      "execution_count": 26,
      "outputs": [
        {
          "output_type": "execute_result",
          "data": {
            "text/plain": [
              "0.8154648767857287"
            ]
          },
          "metadata": {
            "tags": []
          },
          "execution_count": 26
        }
      ]
    },
    {
      "cell_type": "markdown",
      "metadata": {
        "id": "mV5XeT-Wy0-n"
      },
      "source": [
        "# Enter your text here: "
      ]
    },
    {
      "cell_type": "code",
      "metadata": {
        "id": "KRop_uCaYjej"
      },
      "source": [
        "def recommender(your_text, word2index, products, top = 5):\r\n",
        "    your_text_cleaned = [clean_string(your_text, False)]\r\n",
        "    your_text_tf = TermFrequency(your_text_cleaned, data_type = 'text', word2index = word2index).corpus_TF\r\n",
        "    your_text_similarity_matrix = calculate_similarity(products, your_text_tf, jaccard_sim)\r\n",
        "    return  predict (your_text_similarity_matrix, top)[0].tolist()"
      ],
      "execution_count": 27,
      "outputs": []
    },
    {
      "cell_type": "code",
      "metadata": {
        "id": "oVMcVU7KXalg",
        "colab": {
          "base_uri": "https://localhost:8080/",
          "height": 347
        },
        "outputId": "2cdb3179-e4bb-43fc-f46f-b1f9ff4c213c"
      },
      "source": [
        "# your_text = input()\r\n",
        "your_text = 'کتاب ویلون کتاب  '\r\n",
        "pred_indices = recommender(your_text, word2index, products, top=10)\r\n",
        "data[['dkp', 'product_name', 'classes', 'stocked']].iloc[pred_indices]"
      ],
      "execution_count": 29,
      "outputs": [
        {
          "output_type": "execute_result",
          "data": {
            "text/html": [
              "<div>\n",
              "<style scoped>\n",
              "    .dataframe tbody tr th:only-of-type {\n",
              "        vertical-align: middle;\n",
              "    }\n",
              "\n",
              "    .dataframe tbody tr th {\n",
              "        vertical-align: top;\n",
              "    }\n",
              "\n",
              "    .dataframe thead th {\n",
              "        text-align: right;\n",
              "    }\n",
              "</style>\n",
              "<table border=\"1\" class=\"dataframe\">\n",
              "  <thead>\n",
              "    <tr style=\"text-align: right;\">\n",
              "      <th></th>\n",
              "      <th>dkp</th>\n",
              "      <th>product_name</th>\n",
              "      <th>classes</th>\n",
              "      <th>stocked</th>\n",
              "    </tr>\n",
              "  </thead>\n",
              "  <tbody>\n",
              "    <tr>\n",
              "      <th>980</th>\n",
              "      <td>4135207</td>\n",
              "      <td>تابلو مدل Tgirl0</td>\n",
              "      <td>[خانه و آشپزخانه, دکوراتیو, تابلو]</td>\n",
              "      <td>True</td>\n",
              "    </tr>\n",
              "    <tr>\n",
              "      <th>1632</th>\n",
              "      <td>777304</td>\n",
              "      <td>تابلو شاسی مدل No U-turn</td>\n",
              "      <td>[خانه و آشپزخانه, دکوراتیو, تابلو شاسی]</td>\n",
              "      <td>False</td>\n",
              "    </tr>\n",
              "    <tr>\n",
              "      <th>655</th>\n",
              "      <td>3271511</td>\n",
              "      <td>پرده مدل fp01ab سایز 140x280 سانتی متر</td>\n",
              "      <td>[خانه و آشپزخانه, دکوراتیو, پرده]</td>\n",
              "      <td>False</td>\n",
              "    </tr>\n",
              "    <tr>\n",
              "      <th>1190</th>\n",
              "      <td>4135444</td>\n",
              "      <td>تابلو شاسی مدل Peaky blinders کد S-8007</td>\n",
              "      <td>[خانه و آشپزخانه, دکوراتیو, تابلو شاسی]</td>\n",
              "      <td>False</td>\n",
              "    </tr>\n",
              "    <tr>\n",
              "      <th>70</th>\n",
              "      <td>3270079</td>\n",
              "      <td>قاب عکس مدل 2020</td>\n",
              "      <td>[خانه و آشپزخانه, دکوراتیو, قاب عکس]</td>\n",
              "      <td>True</td>\n",
              "    </tr>\n",
              "    <tr>\n",
              "      <th>215</th>\n",
              "      <td>3271013</td>\n",
              "      <td>مجسمه طرح کرگدن</td>\n",
              "      <td>[خانه و آشپزخانه, دکوراتیو, مجسمه و تندیس]</td>\n",
              "      <td>True</td>\n",
              "    </tr>\n",
              "    <tr>\n",
              "      <th>1275</th>\n",
              "      <td>275154</td>\n",
              "      <td>کیف آدیداس مدل Festival</td>\n",
              "      <td>[ورزش و سفر, تجهیزات سفر, کیف و کوله]</td>\n",
              "      <td>False</td>\n",
              "    </tr>\n",
              "    <tr>\n",
              "      <th>673</th>\n",
              "      <td>3271530</td>\n",
              "      <td>پرده مدل per09 سایز 140x280 سانتی متر</td>\n",
              "      <td>[خانه و آشپزخانه, دکوراتیو, پرده]</td>\n",
              "      <td>False</td>\n",
              "    </tr>\n",
              "    <tr>\n",
              "      <th>1226</th>\n",
              "      <td>4135491</td>\n",
              "      <td>تابلو شاسی مدل 8016</td>\n",
              "      <td>[خانه و آشپزخانه, دکوراتیو, تابلو شاسی]</td>\n",
              "      <td>False</td>\n",
              "    </tr>\n",
              "    <tr>\n",
              "      <th>1224</th>\n",
              "      <td>4135488</td>\n",
              "      <td>تابلو شاسی مدل Peaky blinders کد S-8015</td>\n",
              "      <td>[خانه و آشپزخانه, دکوراتیو, تابلو شاسی]</td>\n",
              "      <td>False</td>\n",
              "    </tr>\n",
              "  </tbody>\n",
              "</table>\n",
              "</div>"
            ],
            "text/plain": [
              "          dkp  ... stocked\n",
              "980   4135207  ...    True\n",
              "1632   777304  ...   False\n",
              "655   3271511  ...   False\n",
              "1190  4135444  ...   False\n",
              "70    3270079  ...    True\n",
              "215   3271013  ...    True\n",
              "1275   275154  ...   False\n",
              "673   3271530  ...   False\n",
              "1226  4135491  ...   False\n",
              "1224  4135488  ...   False\n",
              "\n",
              "[10 rows x 4 columns]"
            ]
          },
          "metadata": {
            "tags": []
          },
          "execution_count": 29
        }
      ]
    },
    {
      "cell_type": "code",
      "metadata": {
        "id": "gYaHMa9eXtxT"
      },
      "source": [
        ""
      ],
      "execution_count": null,
      "outputs": []
    }
  ]
}